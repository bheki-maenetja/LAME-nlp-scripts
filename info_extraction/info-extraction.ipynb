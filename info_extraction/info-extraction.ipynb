{
 "cells": [
  {
   "cell_type": "markdown",
   "id": "eb391af1",
   "metadata": {},
   "source": [
    "# BERT Model"
   ]
  },
  {
   "cell_type": "code",
   "execution_count": 1,
   "id": "9cadc58d",
   "metadata": {},
   "outputs": [],
   "source": [
    "# Imports\n",
    "import torch\n",
    "import nltk\n",
    "from transformers import BertForQuestionAnswering, BertTokenizer, AutoTokenizer\n",
    "from sentence_transformers import SentenceTransformer, util"
   ]
  },
  {
   "cell_type": "code",
   "execution_count": 2,
   "id": "540a63a2",
   "metadata": {},
   "outputs": [],
   "source": [
    "# Model\n",
    "model = BertForQuestionAnswering.from_pretrained('bert-large-uncased-whole-word-masking-finetuned-squad')\n",
    "\n",
    "# Tokenizer\n",
    "# tokenizer = BertTokenizer.from_pretrained('bert-large-uncased-whole-word-masking-finetuned-squad')\n",
    "tokenizer = AutoTokenizer.from_pretrained('bert-large-uncased-whole-word-masking-finetuned-squad')"
   ]
  },
  {
   "cell_type": "code",
   "execution_count": 3,
   "id": "93b10e0f",
   "metadata": {},
   "outputs": [],
   "source": [
    "# Query and Context\n",
    "from queries import get_text_cli\n",
    "from get_documents import search"
   ]
  },
  {
   "cell_type": "code",
   "execution_count": 4,
   "id": "82b45650",
   "metadata": {},
   "outputs": [],
   "source": [
    "# Encoding\n",
    "# encoding = tokenizer.encode_plus(text=question, text_pair=context[2])\n",
    "# inputs = encoding['input_ids']\n",
    "# sentence_embedding = encoding['token_type_ids']\n",
    "\n",
    "# inputs = tokenizer(\n",
    "#     question,\n",
    "#     context[2],\n",
    "#     max_length=100,\n",
    "#     truncation=\"only_second\",\n",
    "#     stride=50,\n",
    "#     return_overflowing_tokens=True,\n",
    "#     return_offsets_mapping=True\n",
    "# )\n",
    "\n",
    "# tokens = tokenizer.convert_ids_to_tokens(inputs['input_ids'][0])"
   ]
  },
  {
   "cell_type": "code",
   "execution_count": 5,
   "id": "38fe1adf",
   "metadata": {},
   "outputs": [],
   "source": [
    "# Utility Functions\n",
    "def query_and_context():\n",
    "    term = get_text_cli('Enter a search term')\n",
    "    context = search(term)\n",
    "    query = get_text_cli(\"Enter your question\")\n",
    "    return {\n",
    "        'query': query, \n",
    "        'context_id': context[0], \n",
    "        'context_title': context[1], \n",
    "        'context': context[2]\n",
    "    }\n",
    "\n",
    "def segment_text(text):\n",
    "    tokens = nltk.word_tokenize(text)\n",
    "    segments = []\n",
    "    while tokens:\n",
    "        segments.append(' '.join(tokens[:512]))\n",
    "        del tokens[:512]\n",
    "    \n",
    "    return segments"
   ]
  },
  {
   "cell_type": "code",
   "execution_count": 6,
   "id": "4172328e",
   "metadata": {},
   "outputs": [],
   "source": [
    "# Model Inference\n",
    "def run_model(query, text):\n",
    "    # Initialising tokeniser\n",
    "    inputs = tokenizer(\n",
    "        query,\n",
    "        text,\n",
    "        max_length=100,\n",
    "        truncation=\"only_second\",\n",
    "        stride=50,\n",
    "        return_overflowing_tokens=True,\n",
    "        return_offsets_mapping=True\n",
    "    )\n",
    "\n",
    "    tokens = tokenizer.convert_ids_to_tokens(inputs['input_ids'][0])\n",
    "    \n",
    "    # Running model\n",
    "    output = model(\n",
    "        input_ids=torch.tensor([inputs['input_ids'][0]]), \n",
    "        token_type_ids=torch.tensor(inputs['token_type_ids'][0])\n",
    "    )\n",
    "    \n",
    "    # Putting answer together\n",
    "    start_i = torch.argmax(output['start_logits'])\n",
    "    end_i = torch.argmax(output['end_logits'])\n",
    "    (start_i, end_i)\n",
    "    \n",
    "    answer = ' '.join(tokens[start_i:end_i+1])\n",
    "    corrected_answer = ''\n",
    "    for word in answer.split():\n",
    "        #If it's a subword token\n",
    "        if word[0:2] == '##':\n",
    "            corrected_answer += word[2:]\n",
    "        else:\n",
    "            corrected_answer += ' ' + word\n",
    "    \n",
    "    return corrected_answer"
   ]
  },
  {
   "cell_type": "code",
   "execution_count": 7,
   "id": "39ddfbd3",
   "metadata": {},
   "outputs": [],
   "source": [
    "# segs = segment_text(context[2])\n",
    "# answer_body = ''\n",
    "# for seg in segs:\n",
    "#     answer_body += '| ' + run_model(question, seg)\n",
    "\n",
    "# print(answer_body)"
   ]
  },
  {
   "cell_type": "markdown",
   "id": "463f55b0",
   "metadata": {},
   "source": [
    "# Workshop"
   ]
  },
  {
   "cell_type": "code",
   "execution_count": 8,
   "id": "0b1b2743",
   "metadata": {},
   "outputs": [],
   "source": [
    "from tf_idf import tokenize\n",
    "# word_dict = query_and_context()\n",
    "# word_dict"
   ]
  },
  {
   "cell_type": "code",
   "execution_count": 27,
   "id": "e75934e3",
   "metadata": {},
   "outputs": [],
   "source": [
    "def sent_rank(query, context, n):\n",
    "#     query_set = set(tokenize(query))\n",
    "#     sentences = {sent: tokenize(sent) for sent in nltk.sent_tokenize(context)}\n",
    "#     sent_scores = { sent: 0 for sent in sentences}\n",
    "    model = SentenceTransformer('sentence-transformers/all-MiniLM-L6-v2')\n",
    "    sent_scores = {\n",
    "        sent: text_similarity(query, sent, model)\n",
    "        for sent in nltk.sent_tokenize(context)\n",
    "    }\n",
    "#     for sent in sentences:\n",
    "#         common_words = query_set.intersection(set(sentences[sent]))\n",
    "#         sent_scores[sent] += len(common_words)\n",
    "    \n",
    "    ranked_scores = sorted(\n",
    "        sent_scores.items(),\n",
    "        key = lambda x: x[1],\n",
    "    )\n",
    "    \n",
    "    return ranked_scores\n",
    "\n",
    "def build_input_text(ranked_sents):\n",
    "    input_text = ''\n",
    "    \n",
    "    while True:\n",
    "        new_sent = ranked_sents.pop()[0]\n",
    "        if len(nltk.word_tokenize(input_text + ' ' + new_sent)) <= 512:\n",
    "            input_text += ' ' + new_sent\n",
    "        else:\n",
    "            break\n",
    "    \n",
    "    return input_text\n",
    "\n",
    "def text_similarity(text_1, text_2, model):\n",
    "    embedding_1= model.encode(text_1, convert_to_tensor=True)\n",
    "    embedding_2 = model.encode(text_2, convert_to_tensor=True)\n",
    "    \n",
    "    return float(util.pytorch_cos_sim(embedding_1, embedding_2))"
   ]
  },
  {
   "cell_type": "code",
   "execution_count": 28,
   "id": "85047e7b",
   "metadata": {},
   "outputs": [],
   "source": [
    "# ranked_sents = sent_rank(word_dict['query'], word_dict['context'], 0)\n",
    "# ranked_sents"
   ]
  },
  {
   "cell_type": "code",
   "execution_count": 29,
   "id": "f4cd3279",
   "metadata": {},
   "outputs": [],
   "source": [
    "# input_text = build_input_text(ranked_sents)\n",
    "# input_text"
   ]
  },
  {
   "cell_type": "code",
   "execution_count": 30,
   "id": "2c99a199",
   "metadata": {},
   "outputs": [],
   "source": [
    "# run_model(word_dict['query'], input_text)"
   ]
  },
  {
   "cell_type": "code",
   "execution_count": 33,
   "id": "344e2575",
   "metadata": {},
   "outputs": [],
   "source": [
    "def info_extraction_procedure():\n",
    "    word_dict = query_and_context()\n",
    "    ranked_sents = sent_rank(word_dict['query'], word_dict['context'], 0)\n",
    "    print(ranked_sents)\n",
    "    input_text = build_input_text(ranked_sents)\n",
    "    print(input_text)\n",
    "    model_output = run_model(word_dict['query'], input_text)\n",
    "    return word_dict['query'], model_output"
   ]
  },
  {
   "cell_type": "code",
   "execution_count": 35,
   "id": "b8cbda94",
   "metadata": {},
   "outputs": [
    {
     "name": "stdout",
     "output_type": "stream",
     "text": [
      "Enter a search term: Tom Cruise\n",
      "Enter your question: Where did Tom Cruise grow up?\n",
      "[('YouTube has declined to remove it again, due to the popularity of the video, and subsequent changes to copyright policy of the website.', -0.014301898889243603), ('Lambs was released on November 9, 2007,[citation needed] opening to unimpressive box office revenue and critical reception.', -0.00684901000931859), ('New York law requires all divorce documents remain sealed, so the exact terms of the settlement are not publicly available.', 0.03953713923692703), ('From The Lancet, \"He may be right that psychotropic drugs are overused, sometimes misused; and that lifestyle changes (and exercise for depression) can be helpful.', 0.045323532074689865), ('After YouTube investigated this claim, they found that the video did not breach copyright law, as it is covered by the fair use clause.', 0.049348801374435425), ('This drew criticism from medical professionals and firefighters.', 0.04937497898936272), (\"That suit was dismissed by a Central Civil West court judge in Los Angeles on the grounds that the statute of limitations had expired on Sapir's claim.\", 0.050934482365846634), ('Production began in 2007 of Valkyrie, a thriller based on the July 20, 1944, assassination attempt against Adolf Hitler.', 0.06575173884630203), ('The film was released to widespread critical praise, with many reviewers deeming it superior to its predecessor.', 0.08546492457389832), ('Drama organizer Val Wright was in the audience and later said that \"the movement and improvisation were excellent ... a classic ensemble piece.\"', 0.09416379034519196), ('This was followed by an unrecognizable appearance as \"Les Grossman\" in the 2008 comedy Tropic Thunder with Ben Stiller, Jack Black, and Robert Downey Jr.', 0.09537087380886078), (\"It was a great lesson in my life—how he'd lull you in, make you feel safe and then, bang!\", 0.1023688092827797), ('DeVette was replaced with Paul Bloch from the publicity firm Rogers and Cowan.', 0.10408755391836166), ('Both will fly to the International Space Station as part of a future Axiom Space mission in a SpaceX Dragon 2 spacecraft.', 0.11349856853485107), ('The first was its inaugural film, Lions for Lambs, directed by Robert Redford and starring Redford, Meryl Streep and Cruise.', 0.11679504066705704), ('The film was acquired in March 2007 by United Artists.', 0.12507730722427368), ('The new film, also titled The Mummy received negative reviews and flopped at the box office.', 0.12929725646972656), ('It was subsequently reinstated on the site, and as of June 2020, the video has achieved over 15 million views.', 0.13236479461193085), ('Returning cast members included Simon Pegg as Benji and Jeremy Renner as William Brandt, with Christopher McQuarrie as director.', 0.13377705216407776), ('He and six other boys put on an improvised play to music called IT at the Carleton Elementary School drama festival.', 0.13394203782081604), ('After she left the organization, she blamed its leader, David Miscavige, for the break-up of their marriage.', 0.13644927740097046), ('Be careful around him.\\'\"', 0.13984768092632294), ('The film was more positively received by critics than the previous films in the series, and grossed over $791 million at the box office.', 0.1444370299577713), ('Where Maverick Mitchell needs to rein in the discipline, Daniel Kaffee needs to let it go, finally see what he can do.', 0.14746764302253723), ('The film was more positively received by critics than the previous films in the series, and grossed nearly $400\\xa0million at the box office.', 0.14927656948566437), (\"In 2003, he starred in Edward Zwick's period action drama The Last Samurai, for which he received a Golden Globe nomination for best actor.\", 0.15014876425266266), ('The couple married on December 24, 1990.', 0.15088316798210144), ('The film was released in December 2011 to high critical acclaim and box office success.', 0.1537870466709137), ('Their publicists said the couple had \"officialized\" their marriage in Los Angeles the day before the Italian ceremony.', 0.15429943799972534), (\"Don't trust him.\", 0.15473419427871704), ('On July 9, the couple signed a divorce settlement worked out by their lawyers.', 0.16379359364509583), ('The pregnancy seemingly ended in a miscarriage, but in 2007, Kidman clarified the rumors by explaining that she had actually had an ectopic pregnancy.', 0.1655634641647339), ('For his performance he received another Golden Globe and nomination for an Academy Award.', 0.16700559854507446), ('It met with positive reviews from critics and was a box office success grossing $217 million worldwide.', 0.16914544999599457), ('Like its predecessor, it was the highest-grossing film of the year and had a mixed critical reception.', 0.1739731878042221), ('The film earned high critical acclaim and was a commercial success.', 0.17427033185958862), ('She served in that role until November 2005.', 0.17464588582515717), ('Their three-year relationship ended in 2004.', 0.17502912878990173), ('The film was released on December 21, 2012.', 0.17590463161468506), (\"In 2009, Michael Davis Sapir filed a suit charging that his phone had been wiretapped at Cruise's behest.\", 0.17602619528770447), ('The suit was ultimately settled between the two parties.', 0.17617657780647278), ('Journalist Roger Friedman later reported that he received an email from director and ex-Scientologist Paul Haggis confirming the story.', 0.17938560247421265), (\"For me, it was like, 'There's something wrong with this guy.\", 0.18701106309890747), ('Doug Liman would be directing, writing, and co-producing.', 0.18957555294036865), ('It also starred Morgan Freeman and Olga Kurylenko.', 0.19098030030727386), (\"One of the world's highest-paid actors, he has received various accolades, including an Honorary Palme d'Or and three Golden Globe Awards, in addition to nominations for four Academy Awards.\", 0.19184723496437073), ('His performance earned him a nomination for the Razzie Award for Worst Actor.', 0.1944391429424286), ('For his portrayal of Ron Kovic in the latter, he won a Golden Globe Award and received a nomination for the Academy Award for Best Actor.', 0.20197075605392456), ('For the latter, he won a Golden Globe Award for Best Actor and received his second Academy Award nomination.', 0.20282535254955292), ('The film met with mixed reviews and grossed $286 million worldwide.', 0.20472949743270874), ('In March 2004, his publicist of 14 years, Pat Kingsley, resigned.', 0.20520839095115662), ('He first became involved in drama in fourth grade, under drama teacher George Steinburg.', 0.20568817853927612), ('Upon seeing the film, however, she paid $7,740 for a two-page ad in Daily Variety praising his performance and apologizing for her previous doubts about him.', 0.21513892710208893), ('They divorced on February 4, 1990.', 0.21669448912143707), ('He first appeared in a bit part in the 1981 film Endless Love, followed by a major supporting role as a crazed military academy student in Taps later that year.', 0.21738794445991516), (':\\u200a24–26\\u200a In his senior year of high school, he played football for the varsity team as a linebacker, but was cut from the squad after getting caught drinking beer before a game.', 0.22059500217437744), (\"By 1986's Top Gun, his status as a superstar had been cemented.\", 0.22843104600906372), ('Kathryn Bigelow is attached to the project to produce and helm.', 0.22857137024402618), (\"Shortly thereafter, the doctor's office was picketed by Scientologists, reportedly angering Spielberg.\", 0.23030777275562286), ('The film was directed by Brian De Palma and was a box office success, although it received criticism regarding the Jim Phelps character being a villain despite being a protagonist of the original television series.', 0.23180441558361053), ('They adopted two children: Isabella Jane (born 1992) and Connor Antony (born 1995).', 0.23646950721740723), (\"Later that year he starred with Dustin Hoffman in Barry Levinson's Rain Man, which won the Academy Award for Best Film and Cruise the Kansas City Film Critics Circle Award for Best Supporting Actor.\", 0.23969480395317078), ('He attended the new Robert Hopkins Public School for his fourth and fifth grade education.', 0.24254141747951508), (\"Also in 2005, he was a nominee for the People's Choice Award for Favorite Male Movie Star and the winner of the MTV Generation Award.\", 0.24302370846271515), ('This project marked the second production to be greenlighted since Cruise and Wagner took control of United Artists.', 0.24603749811649323), ('His next five films were major critical and commercial successes.', 0.2529441714286804), ('In 2005, the Council of Paris revealed that Cruise had lobbied French Interior Minister Nicolas Sarkozy and Senate President Jean-Claude Gaudin.', 0.2531251311302185), ('The film broke several box office records upon its release; earning over $1 billion, becoming the highest-grossing film of his career.', 0.25353139638900757), ('Critical acclaim came with his roles in the dramas The Color of Money (1986), Rain Man (1988), and Born on the Fourth of July (1989).', 0.26038697361946106), ('As a leading Hollywood star in the 1990s, he starred in several commercially successful films, including the drama A Few Good Men (1992), the thriller The Firm (1993), the horror film Interview with the Vampire (1994), and the romance Jerry Maguire (1996).', 0.26133260130882263), (\"The film was helmed by Hong Kong director John Woo and branded with his gun fu style; it continued the series' success at the box office, taking in $547 million worldwide.\", 0.2625240087509155), (\"In 2013, he starred in the science fiction film Oblivion based on director Joseph Kosinski's graphic novel of the same name.\", 0.2633063793182373), ('In 2006, he returned to his role as Ethan Hunt in the third installment of the Mission Impossible film series, Mission: Impossible III.', 0.2654033899307251), ('Further controversy ensued in 2005, when he criticized actress Brooke Shields for using the drug Paxil (paroxetine), an antidepressant which she used to recover from postpartum depression after the birth of her first daughter in 2003.', 0.2673530578613281), ('In 2007, Cruise took a rare supporting role for the second time in Lions for Lambs, which was a commercial disappointment.', 0.2675021290779114), ('He also played the male lead in the Ridley Scott film Legend, released in 1985.', 0.2680162191390991), ('[citation needed] In the United States, he convinced Bush administration officials Deputy Secretary of State Richard Armitage and Vice Presidential Chief of Staff Scooter Libby to oppose the non-recognition of Scientology in Germany in 2003.', 0.2687424123287201), ('In 1978, she married Jack South.', 0.27000364661216736), ('Their chemistry won praise among critics with The Washington Post writing, \"One of the subtle achievements of both Cruise\\'s and Newman\\'s performances is that you feel that both of them are genuinely top-notch pool hustlers\".', 0.2726365327835083), ('He lobbied British Prime Minister Tony Blair to recognize the Scientology organization as a tax-exempt nonprofit organization in the United Kingdom.', 0.2752831280231476), ('Nine of the ten films he starred in during the decade made over $100\\xa0million at the box office.', 0.2769681513309479), ('Scientology is well known for its opposition to mainstream psychiatry and psychoactive drugs that are routinely prescribed for treatment.', 0.2776850163936615), ('He later described his father as \"a merchant of chaos\", a \"bully\", and a \"coward\" who beat his children.', 0.2777467668056488), ('He produced Mission: Impossible, Without Limits, Mission: Impossible 2, The Others, Vanilla Sky and many others.', 0.2784390449523926), ('In 1980, he graduated from Glen Ridge High School in Glen Ridge, New Jersey.', 0.28094232082366943), ('In April 2006, their daughter Suri was born.', 0.28124213218688965), ('In addition to other aircraft, Cruise owns a P-51 Mustang.', 0.28289830684661865), ('[citation needed] In 2004, he met Secretary of Education Rod Paige about endorsing Scientologist education methods as part of No Child Left Behind.', 0.28475475311279297), (\"Cruise/Wagner Productions responded that Paramount's announcement was a face-saving move after the production company had successfully sought alternative financing from private equity firms.\", 0.28523537516593933), ('According to those sources, a series of \"auditions\" of Scientologist actresses resulted in a short-lived relationship with Iranian-British actress Nazanin Boniadi, who subsequently left Scientology.', 0.2877231538295746), ('In May 2021, Cruise protested against the Hollywood Foreign Press Association (HFPA) by returning all three of his Golden Globe Awards in light of controversy surrounding the HFPA, particularly its lack of diversity, specifically no black members, and ethical questions related to financial benefits to some of its members.', 0.2891158163547516), ('He elaborated, \"[My father] was the kind of person where, if something goes wrong, they kick you.', 0.29238370060920715), ('The Church of Scientology said the video had been \"pirated and edited\", and was taken from a three-hour video produced for members of Scientology.', 0.29428333044052124), (\"Cruise starred in the 2017 reboot of Boris Karloff's 1932 horror movie The Mummy.\", 0.2969452142715454), (\"That same year he took a rare supporting role, as a motivational speaker, Frank T.J. Mackey, in Paul Thomas Anderson's Magnolia (1999).\", 0.2980305254459381), ('The critical consensus states that \"Driven by director Michael Mann\\'s trademark visuals and a lean, villainous performance from Tom Cruise, Collateral is a stylish and compelling noir thriller.\"', 0.298035204410553), ('He has played Ethan Hunt in all six of the Mission: Impossible films from 1996 to 2018.', 0.3001870810985565), ('YouTube removed the Cruise video from their site under threat of litigation.', 0.3022226095199585), ('But he is wrong, as a celebrity, to add to the burden of those with a mental illness, who often fear seeking or continuing treatment because of the stigma still attached to their condition.\"', 0.3065587282180786), ('In November 2006, Cruise and Paula Wagner announced that they had taken over the film studio United Artists.', 0.30897337198257446), (\"Industry analysts such as Edward Jay Epstein commented that the real reason for the split was most likely Paramount's discontent over Cruise/Wagner's exceptionally large share of DVD sales from the Mission: Impossible franchise.\", 0.3104088008403778), ('Cruise was nominated for seven Saturn Awards between 2002 and 2009, winning once.', 0.31046393513679504), (\"The same year, Forbes magazine ranked him as the world's most powerful celebrity.\", 0.31377607583999634), (\"In August 2008, Wagner stepped down from her position at United Artists; she retains her stake in UA, which combined with Cruise's share amounts to 30 percent of the studio.\", 0.3153865337371826), ('Cruise played the central role in the historical thriller Valkyrie released on December 25, 2008, to box office success.', 0.3227379322052002), ('Cruise asserted that there is no such thing as a chemical imbalance and that psychiatry is a form of pseudoscience.', 0.3240240216255188), (\"Media coverage at the time implied that Oprah was somewhat taken aback by Cruise's outburst, which distracted from the intended promotion of Cruise's current film, War of the Worlds.\", 0.3256293535232544), ('This performance earned Cruise a Golden Globe nomination.', 0.33373987674713135), ('When owned by Burgar, the domain redirected to information about Cruise on Celebrity1000.com.', 0.33640992641448975), ('In 2002, Cruise starred in the dystopian science fiction action film Minority Report, which was directed by Steven Spielberg and based on the science fiction short story by Philip K. Dick.', 0.33699047565460205), ('In 2022, Cruise reprised his role as Captain Pete \"Maverick\" Mitchell in Top Gun: Maverick, a film which he also executive produced.', 0.3388722538948059), (\"Epstein also contends that the public obsession with Cruise's tabloid controversies obscures full appreciation of Cruise's exceptional commercial prowess.\", 0.34176158905029297), ('His parents were both from Louisville, Kentucky, and had English, German, and Irish ancestry.', 0.34238696098327637), (\"Cruise followed up Top Gun with Martin Scorsese's The Color of Money (1986), which came out the same year, and which paired him with Paul Newman.\", 0.3441794514656067), ('The decision to turn TomCruise.com over to Cruise was handed down by the World Intellectual Property Organization (WIPO) on July 5, 2006.', 0.3452839255332947), ('His other notable roles in the genre include Vanilla Sky (2001), Minority Report (2002), The Last Samurai (2003), Collateral (2004), War of the Worlds (2005), Knight and Day (2010), Jack Reacher (2012), Oblivion (2013), Edge of Tomorrow (2014), and Top Gun: Maverick (2022), with Maverick being his highest-grossing film.', 0.34798312187194824), (\"Cruise's performance as a motivational speaker in the drama Magnolia (1999) earned him another Golden Globe Award and a nomination for the Academy Award for Best Supporting Actor.\", 0.348104864358902), ('He stars opposite Renee Zellweger, and Cuba Gooding Jr.', 0.3491958677768707), ('In 2005, Cruise worked again with Steven Spielberg in War of the Worlds, a loose adaptation of the H. G. Wells novel of the same name, which became the fourth highest-grossing film of the year with US$591.4\\xa0million worldwide.', 0.35299864411354065), ('The following year, Cruise starred in the romantic thriller Vanilla Sky (2001) with Cameron Diaz and Penélope Cruz.', 0.3531571328639984), ('In 2004, Cruise received critical acclaim for his performance as Vincent in Collateral.', 0.35400956869125366), ('During deposition, Cruise testified that due to his work load 110 days had passed without his seeing her.', 0.3582977056503296), (\"Meanwhile, Leonardo DiCaprio's production company, Appian Way, is also developing a film about Holmes and the World's Fair, in which DiCaprio will star.\", 0.35856419801712036), ('After working as a busboy in New York, he went to Los Angeles to try out for television roles.', 0.35919710993766785), ('Cruise received an MTV Movie Award for Best Male Performance for the film.', 0.3597884178161621), (\"In 1994, Cruise starred along with Brad Pitt, Antonio Banderas and Christian Slater in Neil Jordan's Interview with the Vampire, a gothic drama/horror film that was based on Anne Rice's best-selling novel.\", 0.35992616415023804), (\"Some of Cruise's later films like A Few Good Men and The Last Samurai can also be considered to be part of this formula.\", 0.36180588603019714), (\"The performance earned him a Golden Globe Award for Best Actor –  Motion Picture Drama, the Chicago Film Critics Association Award for Best Actor, the People's Choice Award for Favorite Motion Picture Actor, a nomination for BAFTA Award for Best Actor in a Leading Role, and Cruise's first Best Actor Academy Award nomination.\", 0.3628866970539093), (\"In Top Gun, Cruise plays Mitchell who is a 'hot shot' military underachiever who makes mistakes because he is trying to outperform his late father.\", 0.3631986081600189), ('In January 2004, Cruise made the controversial statement: \"I think psychiatry should be outlawed.\"', 0.36450377106666565), ('Widescreenings compares two of these Cruise characters in an article on the film A Few Good Men,[screenwriter] Aaron Sorkin interestingly takes the opposite approach of Top Gun, where Cruise also starred as the protagonist.', 0.36468127369880676), ('His films have grossed over $4 billion in North America and over $11.1 billion worldwide, making him one of the highest-grossing box-office stars of all time.', 0.36527419090270996), (\"In 1999, Cruise costarred with Kidman in Stanley Kubrick's erotic and psychological drama film Eyes Wide Shut.\", 0.3653775751590729), ('In response, Shields argued that Cruise \"should stick to saving the world from aliens and let women who are experiencing postpartum depression decide what treatment options are best for them.\"', 0.366888165473938), ('For such activities, Scientology leader David Miscavige created the Scientology Freedom Medal of Valor and awarded it to Cruise in late 2004.', 0.3692581355571747), ('In March 2010, Cruise completed filming the action-comedy Knight and Day, in which he re-teamed with former costar Cameron Diaz; the film was released on June 23, 2010.', 0.3692963719367981), ('The film was well-received, although Rice was initially quite outspoken in her criticism of Cruise having been cast in the film, as Julian Sands was her first choice.', 0.3694685101509094), ('On May 6, 2011, Cruise was awarded a humanitarian award from the Simon Wiesenthal Center and its Museum of Tolerance for his work as a dedicated philanthropist.', 0.3709058165550232), ('In 1988, Cruise starred in Cocktail, a film that was a box office success but failed with critics.', 0.3711511790752411), ('In 2000, Cruise returned as Ethan Hunt in the second installment of the Mission Impossible films, Mission: Impossible 2.', 0.3749110996723175), (\"In 2006, Premiere ranked Cruise as Hollywood's most powerful actor, as Cruise came in at number 13 on the magazine's 2006 Power List, being the highest ranked actor.\", 0.3752783536911011), (\"Cruise/Wagner Productions, Cruise's film production company, is said to be developing a screenplay based on Erik Larson's New York Times bestseller The Devil in the White City about a real-life serial killer, H. H. Holmes, at Chicago's World's Columbian Exposition.\", 0.3770574927330017), (\"This led to a heated argument between Cruise and Matt Lauer on NBC's Today on June 24, 2005.\", 0.37736746668815613), ('In 1983, Cruise was part of the ensemble cast of The Outsiders.', 0.3792923092842102), ('This claim was strongly denied by Cruise, and Slater was later ordered to pay $10\\xa0million to Cruise in damages after Slater declared he could not afford to defend himself against the suit and would therefore default.', 0.3811887800693512), ('In late August 2006, Cruise apologized in person to Shields for his comments.', 0.3813585937023163), ('On August 22, 2006, Paramount Pictures announced it was ending its 14-year relationship with Cruise.', 0.3814077377319336), (\"Cruise acts as a producer and star in films for United Artists, while Wagner serves as UA's chief executive.\", 0.3815106153488159), ('Film critic Roger Ebert of the Chicago Sun-Times wrote, \"Nothing Cruise has done will prepare you for what he does in Born on the Fourth of July\\xa0... His performance is so good that the movie lives through it.', 0.3816906809806824), ('In 2006, Cruise sued cybersquatter Jeff Burgar to obtain control of the TomCruise.com domain name.', 0.3834065794944763), ('In 2015, Cruise returned as Ethan Hunt in the fifth installment of the Mission: Impossible series, Mission: Impossible – Rogue Nation, which he also produced.', 0.3854966461658478), ('Cruise is noted as having negotiated some of the most lucrative film deals in Hollywood, and was described in 2005 by Hollywood economist Edward Jay Epstein as \"one of the most powerful – and richest – forces in Hollywood.\"', 0.386208176612854), ('Cruise has three sisters named Lee Anne, Marian, and Cass.', 0.38719382882118225), (\"According to the book Inside Scientology: The Story of America's Most Secretive Religion by Janet Reitman, seven years after Cruise started studying Scientology, the organization's leaders promised to share Scientology secrets, such as the prophet Xenu.\", 0.3874436616897583), ('Epstein argues that Cruise is one of the few producers (the others being George Lucas, Steven Spielberg and Jerry Bruckheimer) who are regarded as able to guarantee the success of a billion-dollar film franchise.', 0.3875550627708435), ('He has three children, two of whom were adopted during his marriage to Kidman and the other of whom is a biological daughter he had with Holmes.', 0.3876968324184418), (\"Medical authorities view Cruise's comments as furthering the social stigma of mental illness.\", 0.38807255029678345), ('Rolling Stone film critic Peter Travers heaped praise on Cruise writing, \"Cruise is a revelation, fully deserving of the shower of superlatives coming his way\\xa0... Cruise seethes with the chaotic energy of a wounded animal – he\\'s devastating.\"', 0.38902682065963745), (\":\\u200a47\\u200a He went on to star in the school's production of Guys and Dolls.\", 0.389235258102417), ('His involvement in the organization was leaked by the tabloid Star in 1990, and he publicly admitted to following Scientology in a 1992 interview with Barbara Walters.', 0.39050066471099854), ('On February 9, 2010, Cruise confirmed that he would star in Mission: Impossible – Ghost Protocol, the fourth installment in the Mission: Impossible series.', 0.3917829394340515), (\"The film premiered at the Cannes Film Festival where Cruise earned an Honorary Palme d'Or.\", 0.3919598460197449), ('The founder of CinemaScore in 2016 cited Cruise and Leonardo DiCaprio as the \"two stars, it doesn\\'t matter how bad the film is, they can pull [the box office] up.\"', 0.3923929035663605), ('In May 2020, it was reported that Cruise would be starring in and producing a movie shot in outer space.', 0.3988379240036011), ('There has been widespread speculation that their marriage was arranged by the Church of Scientology.', 0.399630069732666), (\"In 1989, Cruise portrayed real-life paralyzed Vietnam War veteran Ron Kovic in Oliver Stone's war epic Born on the Fourth of July.\", 0.3997781276702881), ('Cruise requested a default judgment and, in January 2003, a Los Angeles judge decided against Slater after the porn actor said that his story was false.', 0.3998302221298218), ('The film was a massive financial success with Cruise earning a Golden Globe Award for Best Actor – Motion Picture Musical or Comedy and his second nomination for an Academy Award for Best Actor.', 0.4001924395561218), ('In the early-to-mid-1980s, Cruise had relationships with Melissa Gilbert, Rebecca De Mornay, Patti Scialfa, and Cher.', 0.40081703662872314), ('The suit was dropped in exchange for a public statement by Davis that the video was not of Cruise, and that Cruise was heterosexual.', 0.4039025604724884), ('In 2014, Cruise starred in the science fiction-action film Edge of Tomorrow, which received positive reviews and grossed over $370 million.', 0.40447911620140076), ('Shields called Cruise\\'s comments \"a disservice to mothers everywhere.\"', 0.4061279296875), (\"Cruise's next films were Days of Thunder (1990) and Far and Away (1992), both of which co-starred then-wife Nicole Kidman as his love interest, followed by the legal thriller The Firm, which was a critical and commercial success.\", 0.4073842763900757), (\"In The Wall Street Journal, chairman of Viacom (Paramount's parent company) Sumner Redstone cited the economic damage to Cruise's value as an actor and producer from his controversial public behavior and views.\", 0.4076419472694397), ('Cruise also sued Bold Magazine publisher Michael Davis for $100\\xa0million, because Davis had alleged (though never confirmed) that he had video that would prove Cruise was gay.', 0.40820083022117615), (\"Unadjusted for ticket price inflation, it was Cruise's biggest commercial success to date.\", 0.40900754928588867), ('In 1996, Cruise appeared as superspy Ethan Hunt in the reboot of Mission: Impossible, which he produced.', 0.40913817286491394), ('Cruise however received positive reviews for his performance with Variety\\'s film critic Justin Chang writing, \"Channeling the likes of Axl Rose and Keith Richards with his tattoos, heavy furs and even heavier eyeshadow, Cruise clearly relishes the opportunity to play against type even as he sends up his world\\'s-biggest-movie-star identity, displaying a cock-of-the-rock strut that viewers haven\\'t seen since his turn in Magnolia.\"', 0.4096575677394867), ('Scientology and Cruise\\'s lawyers issued strongly worded denials and threatened to sue, accusing Vanity Fair of \"shoddy journalism\" and \"religious bigotry\".', 0.4100074768066406), (\"Unadjusted for ticket price inflation, it was Cruise's biggest commercial success to that date.\", 0.411220908164978), ('On January 15, 2008, a video produced by the Church of Scientology featuring an interview with Cruise was posted on YouTube by the Anonymous-linked group Project Chanology, showing Cruise discussing what being a Scientologist means to him.', 0.4125899076461792), ('They described him as a militant spokesman for Scientology, and barred any further dealings with him.', 0.41270211338996887), ('Cruise was next romantically linked with Penélope Cruz, his co-star in Vanilla Sky (2001).', 0.4138193726539612), ('Stone is able to make his statement with Cruise\\'s face and voice and doesn\\'t need to put everything into the dialogue.\"', 0.4181639552116394), (\"Cruise partnered with his former talent agent Paula Wagner to form Cruise/Wagner Productions in 1993, and the company has since co-produced several of Cruise's films, the first being Mission: Impossible in 1996 which was also Cruise's first project as a producer.\", 0.4192025065422058), ('In 2018, Cruise again reprised Ethan Hunt, in the sixth film in his franchise, Mission: Impossible – Fallout.', 0.42001014947891235), ('On March 21, 2007, Cruise signed to play Claus von Stauffenberg, the protagonist.', 0.42018935084342957), ('On November 18, Holmes and Cruise were married at the 15th-century Odescalchi Castle in Bracciano, in a Scientologist ceremony attended by many Hollywood stars.', 0.42268508672714233), (\"Cruise starred as Jack Reacher in the film adaptation of British author Lee Child's 2005 novel One Shot.\", 0.4254348576068878), ('An article in the October 2012 issue of Vanity Fair stated that several sources have said that after the breakup with Cruz, Scientologist leaders launched a secret project to find Cruise a new girlfriend.', 0.4261246919631958), ('The film was released in June 2012 and was a rare box-office misstep for Cruise.', 0.42614325881004333), (\"In the film, Cruise's former auditor Marty Rathbun claims that wife Nicole Kidman was wiretapped on Cruise's suggestion, which Cruise's lawyer denies.\", 0.4267743229866028), ('In May 2001, Cruise filed a lawsuit against gay porn actor Chad Slater.', 0.42933350801467896), ('In 1998, Cruise successfully sued the Daily Express, a British tabloid which alleged that his marriage to Kidman was a sham designed to cover up his homosexuality.', 0.43115508556365967), (\"Cruise's next publicist was Lee Anne DeVette, his sister, who was herself a Scientologist.\", 0.4324149787425995), ('Cruise is an aerobatic pilot, and was inducted as part of the Living Legends of Aviation in 2010, receiving the Aviation Inspiration and Patriotism Award from the Kiddie Hawk Air Academy.', 0.4339544177055359), ('He signed with CAA and began acting in films.', 0.43586891889572144), (\"In the same year, Cruise took on the title role in Cameron Crowe's sports drama Jerry Maguire playing a sports agent in search of love.\", 0.43839895725250244), (\"It was reported that Cruise's anti-psychiatry actions led to a rift with director Steven Spielberg.\", 0.44033557176589966), ('Cruise struggled with dyslexia at an early age and has said that Scientology, specifically the L. Ron Hubbard Study Tech, helped him overcome dyslexia.', 0.4427839517593384), ('Cruise earned $100 million for the film, when combining ticket sales, his salary, and his cut of home entertainment rentals and streaming revenues.', 0.443264365196228), ('One of his cousins, William Mapother, is also an actor who has appeared alongside Cruise in five films.', 0.44443947076797485), (\"Lawrence Wright's 2013 book Going Clear: Scientology and the Prison of Belief and Alex Gibney's 2015 television documentary adaptation of the same name cast a spotlight on Cruise's role in Scientology.\", 0.44466328620910645), ('Cruise married actress Mimi Rogers on May 9, 1987.', 0.4455651342868805), ('He removed himself from the Church and worked on the film Eyes Wide Shut until 1999 when David Miscavige sent Marty Rathbun to successfully \"retrieve\" Cruise and convince him to continue training.', 0.44588831067085266), (\"Spielberg had reportedly mentioned in Cruise's presence the name of a doctor friend who prescribed psychiatric medication.\", 0.44796988368034363), ('Former Scientologist Paul Haggis also claimed that Cruise attempted to convert celebrities such as James Packer, Victoria and David Beckham, Jada Pinkett and Will Smith, and Steven Spielberg to Scientology.', 0.4480243921279907), ('This led to his becoming interested in acting.', 0.4508717656135559), ('[citation needed] On October 6, 2005, Cruise and Holmes announced they were expecting a child.', 0.45286816358566284), ('In the 2000s, he sparked controversy with his criticisms of psychiatry and anti-depressant drugs, his efforts to promote Scientology in Europe, and a leaked video interview of him promoting Scientology.', 0.4550517797470093), ('Cruise began acting in the early 1980s and made his breakthrough with leading roles in the comedy film Risky Business (1983) and action film Top Gun (1986).', 0.4584016799926758), ('Slater had told the celebrity magazine Actustar that he had been involved in an affair with Cruise.', 0.45921075344085693), ('The book and the film both allege that the Scientology organization groomed romantic partners for Cruise and that Cruise used Sea Org and Rehabilitation Project Force workers as a source of free labor.', 0.4605392813682556), ('While reviewing Days of Thunder, film critic Roger Ebert noted the similarities between several of Cruise\\'s 1980s films and nicknamed the formula the \"Tom Cruise Picture\".', 0.46153172850608826), ('In addition to promoting various programs that introduce people to Scientology, Cruise has campaigned for Scientology to be afforded the status of a religion in Europe.', 0.4618753492832184), ('[citation needed]\\nCruise co-founded and raised donations for Downtown Medical to offer New York City 9/11 rescue workers detoxification therapy based on the works of L. Ron Hubbard.', 0.46437373757362366), ('On June 29, 2012, Holmes filed for divorce from Cruise.', 0.4669952988624573), ('October 10, 2006, was declared \"Tom Cruise Day\" in Japan; the Japan Memorial Day Association said that he was awarded with a special day because of \"his love for and close association with Japan.\"', 0.47326505184173584), ('Cruise briefly took a Catholic Church scholarship and attended the St. Francis Seminary in Cincinnati, Ohio; he aspired to become a Franciscan priest before being expelled from the seminary for drinking.', 0.4735223948955536), ('Cruise\\'s ex-girlfriend Nazanin Boniadi later compared the Scientology organization\\'s auditioning of women to date Cruise and experiences with him to \"white slavery.\"', 0.4786221385002136), ('In February 2001, Cruise filed for divorce from Kidman while she was unknowingly pregnant.', 0.48395106196403503), ('Cruise met his second wife, actress Nicole Kidman, on the set of their film Days of Thunder (1990).', 0.48585188388824463), ('In October 2012, Cruise filed a lawsuit against In Touch and Life & Style magazines for defamation after they claimed Cruise had \"abandoned\" his six-year-old daughter.', 0.4871736764907837), ('In total, Cruise attended 15 schools in 14 years.', 0.489767849445343), ('In sixth grade, Cruise went to Henry Munro Middle School in Ottawa.', 0.4982072412967682), (\"Cruise stated that ex-wife Katie Holmes divorced him in part to protect the couple's daughter Suri from Scientology and that Suri is no longer a practicing member of the organization.\", 0.49943262338638306), ('Cruise has been married to actresses Mimi Rogers, Nicole Kidman, and Katie Holmes.', 0.5048055648803711), ('In April 2005, Cruise began dating actress Katie Holmes.', 0.5121216773986816), ('Peter Bradshaw of The Guardian praised both Cruise and Kidman on their performances writing, \"Cruise in particular lays himself open in that fiercely committed way that he tries everything as an actor\".', 0.5134663581848145), ('Cruise is an outspoken advocate for the Church of Scientology, which he credits with helping him overcome dyslexia.', 0.5141519904136658), ('On April 27 that year, Cruise and Holmes—dubbed TomKat by the media—made their first public appearance together in Rome.', 0.5144619941711426), (\"A month later, Cruise publicly declared his love for Holmes on The Oprah Winfrey Show; he jumped on Winfrey's yellow couch and stood there.\", 0.5147882699966431), ('In mid-2011, Cruise started shooting the movie Rock of Ages (2012), in which he played the fictional character Stacee Jaxx.', 0.5175139307975769), (\"Cruise is friends with the Scientology organization's chairman David Miscavige.\", 0.518826961517334), ('Such restructuring was seen as a move to curtail publicity of his views on Scientology, as well as the controversy surrounding his relationship with Katie Holmes.', 0.5197835564613342), (\"Rogers had grown up in Scientology and was one of its 'auditors'; they met when Cruise became one of her clients.\", 0.5241872668266296), ('Ebert listed nine key ingredients that make up the Tom Cruise Picture: the Cruise character, the mentor, the superior woman, the craft he must hone, the arena it takes place in, the arcana or knowledge he must learn, the trail or journey, the proto enemy, and the eventual enemy of the character.', 0.5286723375320435), ('Cruise was born on July 3, 1962, in Syracuse, New York, to electrical engineer Thomas Cruise Mapother III (1934–1984) and special education teacher Mary Lee (née Pfeiffer; 1936–2017).', 0.5304574370384216), (\"David Miscavige, the head of Scientology, served as Cruise's best man.\", 0.5315468311309814), ('Film critic Stephen Holden of The New York Times praised Cruise\\'s performance, declaring \"Tom Cruise has found the perfect superhero character on which to graft his breathlessly gung-ho screen personality.\"', 0.5317909121513367), ('Cruise splits his time between homes in Beverly Hills, California; Clearwater, Florida; and the South of England where Cruise has lived in various places including Central London, Dulwich, East Grinstead, and Biggin Hill.', 0.5403372049331665), ('Since then, Cruise has largely starred in science fiction and action films, establishing himself as an action star, often performing his own risky stunts.', 0.544074535369873), ('Thomas Cruise Mapother IV (born July 3, 1962) is an American actor and producer.', 0.5471027493476868), ('According to Reitman\\'s book, Cruise \"freaked out\" and took a step back.', 0.5481038689613342), (\"Cruise's biological father died of cancer in 1984.\", 0.5547866225242615), ('Cruise spent part of his childhood in Canada; when his father took a job as a defense consultant with the Canadian Armed Forces, his family moved in late 1971 to Beacon Hill, Ottawa.', 0.563927173614502), ('Cruise was converted to Scientology by his first wife Mimi Rogers in 1986, becoming an outspoken advocate for the Church of Scientology in the 2000s.', 0.5692450404167175), ('That same year he appeared in All the Right Moves and Risky Business, which has been described as \"A Generation X classic, and a career maker for Tom Cruise.\"', 0.5836105346679688), ('Cruise has produced several films in which he appeared.', 0.5936722159385681), ('That year, his mother left his father, taking Cruise and his sisters back to the United States.', 0.5965250134468079), ('Cruise had become a full-on zealot after a couple of years.', 0.6012204885482788), ('At age 18, with the blessing of his mother and stepfather, Cruise moved to New York City to pursue an acting career.', 0.6117291450500488), ('Cruise grew up in near poverty and had a Catholic upbringing.', 0.6575908660888672)]\n",
      " Cruise grew up in near poverty and had a Catholic upbringing. At age 18, with the blessing of his mother and stepfather, Cruise moved to New York City to pursue an acting career. Cruise had become a full-on zealot after a couple of years. That year, his mother left his father, taking Cruise and his sisters back to the United States. Cruise has produced several films in which he appeared. That same year he appeared in All the Right Moves and Risky Business, which has been described as \"A Generation X classic, and a career maker for Tom Cruise.\" Cruise was converted to Scientology by his first wife Mimi Rogers in 1986, becoming an outspoken advocate for the Church of Scientology in the 2000s. Cruise spent part of his childhood in Canada; when his father took a job as a defense consultant with the Canadian Armed Forces, his family moved in late 1971 to Beacon Hill, Ottawa. Cruise's biological father died of cancer in 1984. According to Reitman's book, Cruise \"freaked out\" and took a step back. Thomas Cruise Mapother IV (born July 3, 1962) is an American actor and producer. Since then, Cruise has largely starred in science fiction and action films, establishing himself as an action star, often performing his own risky stunts. Cruise splits his time between homes in Beverly Hills, California; Clearwater, Florida; and the South of England where Cruise has lived in various places including Central London, Dulwich, East Grinstead, and Biggin Hill. Film critic Stephen Holden of The New York Times praised Cruise's performance, declaring \"Tom Cruise has found the perfect superhero character on which to graft his breathlessly gung-ho screen personality.\" David Miscavige, the head of Scientology, served as Cruise's best man. Cruise was born on July 3, 1962, in Syracuse, New York, to electrical engineer Thomas Cruise Mapother III (1934–1984) and special education teacher Mary Lee (née Pfeiffer; 1936–2017). Ebert listed nine key ingredients that make up the Tom Cruise Picture: the Cruise character, the mentor, the superior woman, the craft he must hone, the arena it takes place in, the arcana or knowledge he must learn, the trail or journey, the proto enemy, and the eventual enemy of the character. Rogers had grown up in Scientology and was one of its 'auditors'; they met when Cruise became one of her clients. Such restructuring was seen as a move to curtail publicity of his views on Scientology, as well as the controversy surrounding his relationship with Katie Holmes. Cruise is friends with the Scientology organization's chairman David Miscavige.\n"
     ]
    },
    {
     "ename": "TypeError",
     "evalue": "forward() got an unexpected keyword argument 'input_ids'",
     "output_type": "error",
     "traceback": [
      "\u001b[0;31m---------------------------------------------------------------------------\u001b[0m",
      "\u001b[0;31mTypeError\u001b[0m                                 Traceback (most recent call last)",
      "Cell \u001b[0;32mIn[35], line 1\u001b[0m\n\u001b[0;32m----> 1\u001b[0m question, answer \u001b[38;5;241m=\u001b[39m \u001b[43minfo_extraction_procedure\u001b[49m\u001b[43m(\u001b[49m\u001b[43m)\u001b[49m\n\u001b[1;32m      2\u001b[0m \u001b[38;5;28mprint\u001b[39m(\u001b[38;5;124mf\u001b[39m\u001b[38;5;124m'\u001b[39m\u001b[38;5;124mQuestion: \u001b[39m\u001b[38;5;124m\"\u001b[39m\u001b[38;5;132;01m{\u001b[39;00mquestion\u001b[38;5;132;01m}\u001b[39;00m\u001b[38;5;124m\"\u001b[39m\u001b[38;5;124m'\u001b[39m, \u001b[38;5;124mf\u001b[39m\u001b[38;5;124m'\u001b[39m\u001b[38;5;124mAnswer: \u001b[39m\u001b[38;5;124m\"\u001b[39m\u001b[38;5;132;01m{\u001b[39;00manswer\u001b[38;5;132;01m}\u001b[39;00m\u001b[38;5;124m\"\u001b[39m\u001b[38;5;124m'\u001b[39m, sep\u001b[38;5;241m=\u001b[39m\u001b[38;5;124m\"\u001b[39m\u001b[38;5;130;01m\\n\u001b[39;00m\u001b[38;5;124m\"\u001b[39m)\n",
      "Cell \u001b[0;32mIn[33], line 7\u001b[0m, in \u001b[0;36minfo_extraction_procedure\u001b[0;34m()\u001b[0m\n\u001b[1;32m      5\u001b[0m input_text \u001b[38;5;241m=\u001b[39m build_input_text(ranked_sents)\n\u001b[1;32m      6\u001b[0m \u001b[38;5;28mprint\u001b[39m(input_text)\n\u001b[0;32m----> 7\u001b[0m model_output \u001b[38;5;241m=\u001b[39m \u001b[43mrun_model\u001b[49m\u001b[43m(\u001b[49m\u001b[43mword_dict\u001b[49m\u001b[43m[\u001b[49m\u001b[38;5;124;43m'\u001b[39;49m\u001b[38;5;124;43mquery\u001b[39;49m\u001b[38;5;124;43m'\u001b[39;49m\u001b[43m]\u001b[49m\u001b[43m,\u001b[49m\u001b[43m \u001b[49m\u001b[43minput_text\u001b[49m\u001b[43m)\u001b[49m\n\u001b[1;32m      8\u001b[0m \u001b[38;5;28;01mreturn\u001b[39;00m word_dict[\u001b[38;5;124m'\u001b[39m\u001b[38;5;124mquery\u001b[39m\u001b[38;5;124m'\u001b[39m], model_output\n",
      "Cell \u001b[0;32mIn[6], line 17\u001b[0m, in \u001b[0;36mrun_model\u001b[0;34m(query, text)\u001b[0m\n\u001b[1;32m     14\u001b[0m tokens \u001b[38;5;241m=\u001b[39m tokenizer\u001b[38;5;241m.\u001b[39mconvert_ids_to_tokens(inputs[\u001b[38;5;124m'\u001b[39m\u001b[38;5;124minput_ids\u001b[39m\u001b[38;5;124m'\u001b[39m][\u001b[38;5;241m0\u001b[39m])\n\u001b[1;32m     16\u001b[0m \u001b[38;5;66;03m# Running model\u001b[39;00m\n\u001b[0;32m---> 17\u001b[0m output \u001b[38;5;241m=\u001b[39m \u001b[43mmodel\u001b[49m\u001b[43m(\u001b[49m\n\u001b[1;32m     18\u001b[0m \u001b[43m    \u001b[49m\u001b[43minput_ids\u001b[49m\u001b[38;5;241;43m=\u001b[39;49m\u001b[43mtorch\u001b[49m\u001b[38;5;241;43m.\u001b[39;49m\u001b[43mtensor\u001b[49m\u001b[43m(\u001b[49m\u001b[43m[\u001b[49m\u001b[43minputs\u001b[49m\u001b[43m[\u001b[49m\u001b[38;5;124;43m'\u001b[39;49m\u001b[38;5;124;43minput_ids\u001b[39;49m\u001b[38;5;124;43m'\u001b[39;49m\u001b[43m]\u001b[49m\u001b[43m[\u001b[49m\u001b[38;5;241;43m0\u001b[39;49m\u001b[43m]\u001b[49m\u001b[43m]\u001b[49m\u001b[43m)\u001b[49m\u001b[43m,\u001b[49m\u001b[43m \u001b[49m\n\u001b[1;32m     19\u001b[0m \u001b[43m    \u001b[49m\u001b[43mtoken_type_ids\u001b[49m\u001b[38;5;241;43m=\u001b[39;49m\u001b[43mtorch\u001b[49m\u001b[38;5;241;43m.\u001b[39;49m\u001b[43mtensor\u001b[49m\u001b[43m(\u001b[49m\u001b[43minputs\u001b[49m\u001b[43m[\u001b[49m\u001b[38;5;124;43m'\u001b[39;49m\u001b[38;5;124;43mtoken_type_ids\u001b[39;49m\u001b[38;5;124;43m'\u001b[39;49m\u001b[43m]\u001b[49m\u001b[43m[\u001b[49m\u001b[38;5;241;43m0\u001b[39;49m\u001b[43m]\u001b[49m\u001b[43m)\u001b[49m\n\u001b[1;32m     20\u001b[0m \u001b[43m\u001b[49m\u001b[43m)\u001b[49m\n\u001b[1;32m     22\u001b[0m \u001b[38;5;66;03m# Putting answer together\u001b[39;00m\n\u001b[1;32m     23\u001b[0m start_i \u001b[38;5;241m=\u001b[39m torch\u001b[38;5;241m.\u001b[39margmax(output[\u001b[38;5;124m'\u001b[39m\u001b[38;5;124mstart_logits\u001b[39m\u001b[38;5;124m'\u001b[39m])\n",
      "File \u001b[0;32m~/.local/share/virtualenvs/L.A.M.E-nlp-scripts-kBFfGq6U/lib/python3.9/site-packages/torch/nn/modules/module.py:1194\u001b[0m, in \u001b[0;36mModule._call_impl\u001b[0;34m(self, *input, **kwargs)\u001b[0m\n\u001b[1;32m   1190\u001b[0m \u001b[38;5;66;03m# If we don't have any hooks, we want to skip the rest of the logic in\u001b[39;00m\n\u001b[1;32m   1191\u001b[0m \u001b[38;5;66;03m# this function, and just call forward.\u001b[39;00m\n\u001b[1;32m   1192\u001b[0m \u001b[38;5;28;01mif\u001b[39;00m \u001b[38;5;129;01mnot\u001b[39;00m (\u001b[38;5;28mself\u001b[39m\u001b[38;5;241m.\u001b[39m_backward_hooks \u001b[38;5;129;01mor\u001b[39;00m \u001b[38;5;28mself\u001b[39m\u001b[38;5;241m.\u001b[39m_forward_hooks \u001b[38;5;129;01mor\u001b[39;00m \u001b[38;5;28mself\u001b[39m\u001b[38;5;241m.\u001b[39m_forward_pre_hooks \u001b[38;5;129;01mor\u001b[39;00m _global_backward_hooks\n\u001b[1;32m   1193\u001b[0m         \u001b[38;5;129;01mor\u001b[39;00m _global_forward_hooks \u001b[38;5;129;01mor\u001b[39;00m _global_forward_pre_hooks):\n\u001b[0;32m-> 1194\u001b[0m     \u001b[38;5;28;01mreturn\u001b[39;00m \u001b[43mforward_call\u001b[49m\u001b[43m(\u001b[49m\u001b[38;5;241;43m*\u001b[39;49m\u001b[38;5;28;43minput\u001b[39;49m\u001b[43m,\u001b[49m\u001b[43m \u001b[49m\u001b[38;5;241;43m*\u001b[39;49m\u001b[38;5;241;43m*\u001b[39;49m\u001b[43mkwargs\u001b[49m\u001b[43m)\u001b[49m\n\u001b[1;32m   1195\u001b[0m \u001b[38;5;66;03m# Do not call functions when jit is used\u001b[39;00m\n\u001b[1;32m   1196\u001b[0m full_backward_hooks, non_full_backward_hooks \u001b[38;5;241m=\u001b[39m [], []\n",
      "\u001b[0;31mTypeError\u001b[0m: forward() got an unexpected keyword argument 'input_ids'"
     ]
    }
   ],
   "source": [
    "question, answer = info_extraction_procedure()\n",
    "print(f'Question: \"{question}\"', f'Answer: \"{answer}\"', sep=\"\\n\")"
   ]
  },
  {
   "cell_type": "code",
   "execution_count": 26,
   "id": "13bf0acd",
   "metadata": {},
   "outputs": [
    {
     "data": {
      "text/plain": [
       "tensor([[1.0000]])"
      ]
     },
     "execution_count": 26,
     "metadata": {},
     "output_type": "execute_result"
    }
   ],
   "source": [
    "model = SentenceTransformer('sentence-transformers/all-MiniLM-L6-v2')\n",
    "val = text_similarity('My name is Thanos', 'My name is Thanos', model)\n",
    "val"
   ]
  },
  {
   "cell_type": "code",
   "execution_count": 21,
   "id": "434d50e7",
   "metadata": {},
   "outputs": [
    {
     "data": {
      "text/plain": [
       "0.17249435186386108"
      ]
     },
     "execution_count": 21,
     "metadata": {},
     "output_type": "execute_result"
    }
   ],
   "source": [
    "float(val)"
   ]
  },
  {
   "cell_type": "code",
   "execution_count": null,
   "id": "1aac8e3a",
   "metadata": {},
   "outputs": [],
   "source": []
  }
 ],
 "metadata": {
  "kernelspec": {
   "display_name": "Python 3 (ipykernel)",
   "language": "python",
   "name": "python3"
  },
  "language_info": {
   "codemirror_mode": {
    "name": "ipython",
    "version": 3
   },
   "file_extension": ".py",
   "mimetype": "text/x-python",
   "name": "python",
   "nbconvert_exporter": "python",
   "pygments_lexer": "ipython3",
   "version": "3.9.6"
  }
 },
 "nbformat": 4,
 "nbformat_minor": 5
}
