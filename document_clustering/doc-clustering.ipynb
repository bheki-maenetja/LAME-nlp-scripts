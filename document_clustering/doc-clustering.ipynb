{
 "cells": [
  {
   "cell_type": "markdown",
   "id": "08559778",
   "metadata": {},
   "source": [
    "# Imports"
   ]
  },
  {
   "cell_type": "code",
   "execution_count": 8,
   "id": "64cfa269",
   "metadata": {},
   "outputs": [],
   "source": [
    "# Third-Party Imports\n",
    "import spacy\n",
    "import nltk\n",
    "import torch\n",
    "from sentence_transformers import SentenceTransformer, util\n",
    "\n",
    "# Standard Library Imports\n",
    "import os\n",
    "import sys\n",
    "from math import inf\n",
    "\n",
    "# Local Imports\n",
    "from queries import get_text_cli\n",
    "from get_documents import search"
   ]
  },
  {
   "cell_type": "markdown",
   "id": "97719541",
   "metadata": {},
   "source": [
    "# Utility Functions"
   ]
  },
  {
   "cell_type": "code",
   "execution_count": 19,
   "id": "edf757f4",
   "metadata": {},
   "outputs": [],
   "source": [
    "def get_text():\n",
    "    term = get_text_cli('Enter a search term')\n",
    "    return search(term)\n",
    "\n",
    "def load_docs(dirname='corpus'):\n",
    "    corpus = dict()\n",
    "    main_path = os.path.join(os.path.dirname('__file__'), dirname)\n",
    "\n",
    "    for file in os.listdir(main_path):\n",
    "        with open(os.path.join(main_path, file), 'r') as f:\n",
    "            corpus[file] = f.read()\n",
    "    \n",
    "    return corpus\n",
    "\n",
    "def chunk_text(text, chunk_len):\n",
    "    chunks = []\n",
    "    current_chunk = \"\"\n",
    "    sents = nltk.sent_tokenize(text)\n",
    "    \n",
    "    for sent in sents:\n",
    "        if len(nltk.word_tokenize(current_chunk + f\" {sent}\")) >= chunk_len:\n",
    "            chunks.append(current_chunk)\n",
    "            current_chunk = \"\"\n",
    "        else:\n",
    "            current_chunk += f\" {sent}\"\n",
    "    \n",
    "    chunks.append(current_chunk)\n",
    "    \n",
    "    return chunks\n",
    "\n",
    "def cosine_similarity(text_1, text_2, model=None):\n",
    "    if not model:\n",
    "        model = SentenceTransformer('sentence-transformers/all-MiniLM-L6-v2')\n",
    "    \n",
    "    embedding_1 = model.encode(text_1, convert_to_tensor=True)\n",
    "    embedding_2 = model.encode(text_2, convert_to_tensor=True)\n",
    "    \n",
    "    return float(util.pytorch_cos_sim(embedding_1, embedding_2))"
   ]
  },
  {
   "cell_type": "code",
   "execution_count": null,
   "id": "02e7a87f",
   "metadata": {},
   "outputs": [],
   "source": []
  }
 ],
 "metadata": {
  "kernelspec": {
   "display_name": "Python 3 (ipykernel)",
   "language": "python",
   "name": "python3"
  },
  "language_info": {
   "codemirror_mode": {
    "name": "ipython",
    "version": 3
   },
   "file_extension": ".py",
   "mimetype": "text/x-python",
   "name": "python",
   "nbconvert_exporter": "python",
   "pygments_lexer": "ipython3",
   "version": "3.9.6"
  }
 },
 "nbformat": 4,
 "nbformat_minor": 5
}
