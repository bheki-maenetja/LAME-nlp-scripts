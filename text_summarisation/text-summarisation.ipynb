{
 "cells": [
  {
   "cell_type": "markdown",
   "id": "bbee63f9",
   "metadata": {},
   "source": [
    "# Imports"
   ]
  },
  {
   "cell_type": "code",
   "execution_count": 3,
   "id": "aab00f04",
   "metadata": {},
   "outputs": [],
   "source": [
    "# Third-Party Imports\n",
    "import nltk\n",
    "import torch\n",
    "\n",
    "# Standard Library Imports\n",
    "import os\n",
    "from math import inf\n",
    "import sys\n",
    "sys.path.append('/Users/bhekimaenetja/Desktop/Developer/L.A.M.E-nlp-scripts/')\n",
    "\n",
    "# Local Imports\n",
    "from info_extraction.queries import get_text_cli\n",
    "from info_extraction.get_documents import search"
   ]
  },
  {
   "cell_type": "markdown",
   "id": "c6d9d338",
   "metadata": {},
   "source": [
    "# Utility Functions"
   ]
  },
  {
   "cell_type": "code",
   "execution_count": 9,
   "id": "ca571eee",
   "metadata": {},
   "outputs": [],
   "source": [
    "def get_text():\n",
    "    term = get_text_cli('Enter a search term')\n",
    "    return search(term)\n",
    "\n",
    "def load_docs(dirname='corpus'):\n",
    "    corpus = dict()\n",
    "    main_path = os.path.join(os.path.dirname('__file__'), dirname)\n",
    "\n",
    "    for file in os.listdir(main_path):\n",
    "        with open(os.path.join(main_path, file), 'r') as f:\n",
    "            corpus[file] = f.read()\n",
    "    \n",
    "    return corpus"
   ]
  },
  {
   "cell_type": "markdown",
   "id": "97d99174",
   "metadata": {},
   "source": [
    "# Simple Extractive Text Summarisation"
   ]
  },
  {
   "cell_type": "code",
   "execution_count": null,
   "id": "36ad9bba",
   "metadata": {},
   "outputs": [],
   "source": []
  }
 ],
 "metadata": {
  "kernelspec": {
   "display_name": "Python 3 (ipykernel)",
   "language": "python",
   "name": "python3"
  },
  "language_info": {
   "codemirror_mode": {
    "name": "ipython",
    "version": 3
   },
   "file_extension": ".py",
   "mimetype": "text/x-python",
   "name": "python",
   "nbconvert_exporter": "python",
   "pygments_lexer": "ipython3",
   "version": "3.9.6"
  }
 },
 "nbformat": 4,
 "nbformat_minor": 5
}
