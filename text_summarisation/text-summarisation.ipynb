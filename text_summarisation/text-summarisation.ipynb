{
 "cells": [
  {
   "cell_type": "markdown",
   "id": "4016a4f2",
   "metadata": {},
   "source": [
    "# Imports"
   ]
  },
  {
   "cell_type": "code",
   "execution_count": 12,
   "id": "ffe1c759",
   "metadata": {},
   "outputs": [],
   "source": [
    "# Third-Party Imports\n",
    "import nltk\n",
    "import torch\n",
    "\n",
    "# Standard Library Imports\n",
    "import os\n",
    "from math import inf\n",
    "from string import punctuation\n",
    "import sys\n",
    "sys.path.append('/Users/bhekimaenetja/Desktop/Developer/L.A.M.E-nlp-scripts/')\n",
    "\n",
    "# Local Imports\n",
    "from info_extraction.queries import get_text_cli\n",
    "from info_extraction.get_documents import search"
   ]
  },
  {
   "cell_type": "markdown",
   "id": "0ac34e3e",
   "metadata": {},
   "source": [
    "# Utility Functions"
   ]
  },
  {
   "cell_type": "code",
   "execution_count": 9,
   "id": "01c3cd2a",
   "metadata": {},
   "outputs": [],
   "source": [
    "def get_text():\n",
    "    term = get_text_cli('Enter a search term')\n",
    "    return search(term)\n",
    "\n",
    "def load_docs(dirname='corpus'):\n",
    "    corpus = dict()\n",
    "    main_path = os.path.join(os.path.dirname('__file__'), dirname)\n",
    "\n",
    "    for file in os.listdir(main_path):\n",
    "        with open(os.path.join(main_path, file), 'r') as f:\n",
    "            corpus[file] = f.read()\n",
    "    \n",
    "    return corpus"
   ]
  },
  {
   "cell_type": "markdown",
   "id": "5fbb7bfb",
   "metadata": {},
   "source": [
    "# Simple Extractive Text Summarisation"
   ]
  },
  {
   "cell_type": "code",
   "execution_count": 59,
   "id": "d660314a",
   "metadata": {},
   "outputs": [],
   "source": [
    "def word_tokenize(text):\n",
    "    banned = list(punctuation) + nltk.corpus.stopwords.words(\"english\")\n",
    "    return [w for w in nltk.word_tokenize(text) if w not in banned]\n",
    "\n",
    "def SE_summary(text):\n",
    "    # Create word and sentence tokens\n",
    "    words = word_tokenize(text)\n",
    "    word_set = set(words) # set of all unique words in word tokens\n",
    "    sents = nltk.sent_tokenize(text)\n",
    "    \n",
    "    # Initialise frequency table for word tokens\n",
    "    w_freq_table = {w: words.count(w) for w in word_set}\n",
    "    \n",
    "    # Score sentences based on frequency of their words\n",
    "    sent_scores = {\n",
    "        sent: sum(w_freq_table.get(w, 0) for w in word_tokenize(sent))\n",
    "        for sent in sents\n",
    "    }\n",
    "    \n",
    "    # Build summary\n",
    "    avg = sum(sent_scores.values()) / len(sent_scores)\n",
    "    summary = \" \".join(sent for sent in sents if sent_scores[sent] >= avg)\n",
    "    return summary"
   ]
  },
  {
   "cell_type": "code",
   "execution_count": null,
   "id": "36b7b57a",
   "metadata": {},
   "outputs": [],
   "source": [
    "text = get_text()\n",
    "text"
   ]
  },
  {
   "cell_type": "code",
   "execution_count": 57,
   "id": "0469a104",
   "metadata": {},
   "outputs": [
    {
     "data": {
      "text/plain": [
       "'He was in the starting line-up in major matches like his first Clásico against rivals Real Madrid on 19 November, as well as Barcelona\\'s away victory over Chelsea in the last 16 round of the Champions League, which came on back of an intense period of rivalry between the clubs leading a resentful Messi to state, \"We would rather play Arsenal, Manchester United or anyone else than be on the pitch with Chelsea.\" He set up his side\\'s first goal and scored twice to end the match in an emphatic 6–2 victory, the team\\'s greatest-ever score at Real Madrid\\'s Santiago Bernabéu Stadium. As the season\\'s Champions League top scorer with nine goals, the youngest in the tournament\\'s history, Messi scored two goals and assisted two more to ensure a 4–0 quarter-final victory over Bayern Munich. After Barcelona lost the Copa del Rey final four days later, Messi scored both goals in his side\\'s 2–0 win in the first leg of the Champions League semi-finals in Madrid, the second of which – a slaloming dribble past three Real players – was acclaimed as one of the best ever in the competition. – Pep Guardiola after Messi became Barcelona\\'s all-time top scorer at the age of 24 in March 2012\\nAs Messi maintained his goalscoring form into the second half of the season, the year 2012 saw him break several longstanding records. Despite Messi\\'s individual form, Barcelona\\'s four-year cycle of success under Guardiola – one of the greatest eras in the club\\'s history – drew to an end. A double scored on 9 December against Real Betis saw Messi break two longstanding records: he surpassed César Rodríguez\\'s record of 190 league goals, becoming Barcelona\\'s all-time top scorer in La Liga, and Gerd Müller\\'s record of most goals scored in a calendar year, overtaking his 85 goals scored in 1972 for Bayern Munich and West Germany. He still managed to break two longstanding records in a span of seven days: a hat-trick on 16 March against Osasuna saw him overtake Paulino Alcántara\\'s 369 goals to become Barcelona\\'s top goalscorer in all competitions including friendlies, while another hat-trick against Real Madrid on 23 March made him the all-time top scorer in El Clásico, ahead of the 18 goals scored by former Real Madrid player Alfredo Di Stéfano. A few days later, he scored both goals in Barcelona\\'s 0–2 win against Arsenal at the Emirates Stadium, in the first leg of the 2015–16 UEFA Champions League round of 16, with the second goal being Barcelona\\'s 10,000th in official competitions. Messi finished the 2015–16 season by setting up both goals in Barcelona\\'s 2–0 extra time win over Sevilla in the 2016 Copa del Rey Final, at the Vicente Calderón Stadium, on 22 May 2016, as the club celebrated winning the domestic double for the second consecutive season. In total, Messi scored 41 goals as Barcelona\\'s attacking trio managed a Spanish record of 131 goals throughout the season, breaking the record they had set the previous season. Messi opened the 2016–17 season by lifting the 2016 Supercopa de España as Barcelona\\'s captain in the absence of the injured Andrés Iniesta; he set-up Munir\\'s goal in a 2–0 away win over Sevilla in the first leg on 14 August, and subsequently scored in a 3–0 win in the return leg on 17 August. On 13 September, Messi scored his first hat-trick of the season in the opening game of the 2016–17 UEFA Champions League campaign against Celtic in a 7–0 victory; this was also Messi\\'s sixth hat-trick in the Champions League, the most by any player. On 11 January, Messi scored from a free-kick in Barcelona\\'s 3–1 victory against Athletic Bilbao in the second leg of the round of 16 of the Copa del Rey, which enabled Barcelona to advance to the quarter-finals of the competition; with his 26th goal from a free-kick for Barcelona in all competitions, he equalled the club\\'s all-time record, which had previously been set by Ronald Koeman. On 7 January 2018, Messi made his 400th La Liga appearance with Barcelona in a 3–0 home win over Levante, marking the occasion with his 144th league assist and 365th league goal for the club, the latter of which saw him equal Gerd Müller\\'s record for the most league goals scored for the same club in one of Europe\\'s top five divisions. On 21 April, Messi scored Barcelona\\'s second goal – his 40th of the season – in a 5–0 win over Sevilla in the 2018 Copa del Rey Final, later also setting up Suárez\\'s second goal; this was Barcelona\\'s fourth consecutive title and their 30th overall. On 19 August, Messi scored twice in helping Barcelona defeat Alavés 3–0 in their first La Liga match of the season, with his first goal, a free kick that he rolled under the jumping Alavés wall, making history in being Barcelona\\'s 6000th goal in La Liga. On 18 September, Messi scored a hat-trick in a 4–0 home win over PSV Eindhoven in Barcelona\\'s opening Champions League group stage match of the season, setting a new record for most hat-tricks in the competition, with eight. On 13 January 2019, Messi scored his 400th La Liga goal in his 435th league appearance in a 3–0 home win over Eibar, becoming the first player ever to manage this tally in just one of Europe\\'s top five leagues. On 2 February, Messi scored twice in a 2–2 draw against Valencia, with his first goal coming from the penalty spot, his 50th La Liga penalty goal; as such, he became only the third player in La Liga history after Cristiano Ronaldo and Hugo Sánchez to score 50 penalties in the competition. On 16 April, Messi scored twice in a 3–0 home victory over Manchester United in the second leg of the Champions League quarter-finals to give Barcelona a 4–0 aggregate win, which saw Barcelona progress to the semi-finals of the competition for the first time since 2015; these were also his first goals in the Champions League quarter-finals since 2013. On 27 April, Messi came off the bench and scored the only goal in a 1–0 home win over Levante, which allowed Barcelona to clinch the league title; this was his 450th La Liga appearance, and his first league title as Barcelona\\'s captain. On 1 May, Messi scored twice in a 3–0 home win over Liverpool in the first leg of the Champions League semi-finals; his second goal of the match, a 35-yard free kick, was the 600th senior club goal of his career, all of which had been scored with Barcelona. On 19 May, in Barcelona\\'s final La Liga match of the season, Messi scored twice in a 2–2 away draw against Eibar (his 49th and 50th goals of the season in all competitions), which saw him capture his sixth Pichichi Trophy as the league\\'s top scorer, with 36 goals in 34 appearances; with six titles, he equalled Zarra as the player with the most top-scorer awards in La Liga. Messi made his first appearance of the season on 17 September, and on 6 October he scored his first goal of the season with a free kick in a 4–0 home win over Sevilla; this was his 420th goal in La Liga, which saw him break Cristiano Ronaldo\\'s record of 419 goals scored in Europe\\'s top five leagues. On 11 July, Messi provided his 20th assist of the league season for Arturo Vidal in a 1–0 away win over Real Valladolid, equalling Xavi\\'s record of 20 assists in a single La Liga season from 2008 to 2009; with 22 goals, he also became only the second player ever, after Thierry Henry in the 2002–03 FA Premier League season with Arsenal (24 goals and 20 assists), to record at least 20 goals and 20 assists in a single league season in one of Europe\\'s top-five leagues. Following his brace in a 5–0 away win against Alavés in the final match of the season on 20 May, Messi finished the season as both the top scorer and top assist provider in La Liga, with 25 goals and 21 assists respectively, which saw him win his record seventh Pichichi trophy, overtaking Zarra; however, Barcelona missed out on the league title to Real Madrid. On 26 August, Barcelona\\'s sporting director Ramon Planes iterated the club\\'s desire to \"build a team around the most important player in the world\" and affirmed Messi will only be able to leave should a buyer pay his €700\\xa0million buyout clause; a reported early termination option available in Messi\\'s contract (which would have allowed him to leave the club for free) could only be exercised if he had communicated his decision to Barcelona by 31 May 2020, although the player\\'s representatives argued the deadline should be set to 31 August, due to the adjourned 2019–20 season. On 4 September, Jorge Messi, Lionel\\'s father and agent, released a statement in response to La Liga claiming the release clause \"is not valid when the termination of the contract is by the player\\'s unilateral decision from the end of the 2019–20 season\", as stated in Messi\\'s contract with Barcelona; moments later, La Liga issued a response reiterating their statement published on 30 August. On 10 March, Messi scored from 35 yards out and later had a penalty saved in a 1–1 draw against Paris Saint-Germain at the Parc des Princes in the second leg of the Champions League round of 16 as Barcelona were eliminated at this stage for the first time in 14 years by an aggregate score of 2–5 after having lost 1–4 at home on 16 February, with Messi scoring Barcelona\\'s only goal in that game. After adjusting to his new surroundings and settling in Paris, under new coach Christophe Galtier, Messi returned to his preferred free attacking role; being placed in his favoured position as the playmaker behind two strikers, in a attacking trident with Neymar and Kylian Mbappé, quickly regaining his form from his previous season by starting off the new season on 31 July by scoring PSG\\'s first goal in a 4–0 victory over Nantes in the Trophée des Champions, winning his second trophy with PSG. In his first World Cup match as captain, he led them to a 2–1 victory over Bosnia and Herzegovina; he helped create Sead Kolašinac\\'s own goal and scored their second strike after a dribble past three players, his first World Cup goal since his debut in the tournament eight years earlier. In the quarter-final, they created numerous chances, including a rebound header by Messi, but were repeatedly denied by Colombia\\'s goalkeeper, and ultimately ended the match scoreless, leading to a 5–4 penalty shootout in their favour, with Messi netting his team\\'s first spot kick. Although Messi was declared match-fit for his nation\\'s second group match against Panama on 10 June, Martino left him on the bench once again; he replaced Augusto Fernández in the 61st minute and subsequently scored a hat-trick in 19 minutes, also starting the play which led to Sergio Agüero\\'s goal, as the match ended in a 5–0 victory, sealing Argentina\\'s place in the quarter-finals of the competition; he was elected man of the match for his performance. President of Argentina Mauricio Macri urged Messi not to quit, stating, \"We are lucky, it is one of life\\'s pleasures, it is a gift from God to have the best player in the world in a footballing country like ours... Lionel Messi is the greatest thing we have in Argentina and we must take care of him.\" On 5 May, Messi\\'s four match ban as well as his 10,000 CHF fine was lifted by FIFA after Argentina Football Association appealed against his suspension, which meant he could now play Argentina\\'s remaining World Cup Qualifiers. Messi\\'s three goals saw him become the joint all-time leading scorer in CONMEBOL World Cup qualifiers with 21 goals, alongside Uruguay\\'s Luis Suárez, overtaking the previous record which was held by compatriot Hernán Crespo. In Argentina\\'s final group match against Nigeria at the Krestovsky Stadium, Saint Petersburg on 26 June, Messi scored the opening goal in an eventual 2–1 victory, becoming the third Argentine after Diego Maradona and Gabriel Batistuta to score in three different World Cups; he also became the first player to score in the World Cup in his teens, twenties, and his thirties. In the round of 16 match against eventual champions France on 30 June, Messi set up Gabriel Mercado\\'s and Sergio Agüero\\'s goals in a 3–4 defeat, which saw Argentina eliminated from the World Cup. With his two assists in his team\\'s second round fixture, Messi became the first player to provide an assist in the last four World Cups, and also became the first player to provide two assists in a match for Argentina since Maradona had managed the same feat against South Korea in 1986. On 6 July, in a 1–1 draw in the semi-finals against Colombia, Messi made his 150th appearance for his country and registered his fifth assist of the tournament, a cut-back for Lautaro Martínez, matching his record of nine goal contributions in a single tournament from five years earlier; he later netted his spot kick in Argentina\\'s eventual 3–2 penalty shoot-out victory to progress to his fifth international final. On 10 July, Argentina defeated hosts Brazil 1–0 in the final, giving Messi his first major international title and Argentina\\'s first since 1993, as well as his nation\\'s joint record 15th Copa América overall. At the 2022 FIFA World Cup in Qatar, Messi scored a penalty in Argentina\\'s opening game, a 2–1 defeat to Saudi Arabia, before scoring with a low 20-yard strike in their next match against Mexico in which Argentina won 2–0, also recording an assist on Enzo Fernández\\'s goal. In the last 16 game against Australia, Messi scored the opening goal in Argentina\\'s 2–1 win in what was his 1,000th senior career appearance, and became the most-capped male South American (CONMEBOL member) footballer of all time, surpassing the previous record set by Ecuador\\'s Iván Hurtado, as well as surpassing and equalling several other FIFA World Cup and national team records. In the semi-final against Croatia, Messi made a record-equalling 25th World Cup finals appearance, drawing level with Germany\\'s Lothar Matthäus, and scored the opening goal with a penalty before he assisted Argentina\\'s third goal scored by Julián Álvarez in a 3–0 win; with his 11th World Cup goal, Messi overtook Batistuta to become Argentina\\'s all–time top–scorer at the World Cup. Messi scored Argentina\\'s opening goal with a penalty, becoming in the process the first player since the last-16 round was introduced in 1986 to score a goal in each round of a single World Cup edition. Messi scored Argentina\\'s first goal in the shoot-out, with Argentina eventually winning 4–2, ending the nation\\'s 36-year wait for the trophy. Vickery states the perception of Messi among Argentines changed in 2019, with Messi making a conscious effort to become \"more one of the group, more Argentine\", with Vickery adding that following the World Cup victory in 2022 Messi would now be held in the same esteem by his compatriots as Maradona. Since 2008, Messi has won seven Ballons d\\'Or to Ronaldo\\'s five, six FIFA World\\'s Best Player awards to Ronaldo\\'s five, and six European Golden Shoes to Ronaldo\\'s four. In February 2021, Messi donated to the Museu Nacional d\\'Art de Catalunya his Adidas shoes which he wore when he scored his 644th goal for Barcelona and broke Pelé\\'s record for most goals scored for a single club; the shoes were later auctioned off in April by the museum for charity to help children with cancer and were sold for £125,000.'"
      ]
     },
     "execution_count": 57,
     "metadata": {},
     "output_type": "execute_result"
    }
   ],
   "source": [
    "summary = SE_summary(text[2])\n",
    "summary"
   ]
  },
  {
   "cell_type": "code",
   "execution_count": 58,
   "id": "04df68b1",
   "metadata": {},
   "outputs": [
    {
     "name": "stdout",
     "output_type": "stream",
     "text": [
      "127668 15137\n"
     ]
    }
   ],
   "source": [
    "print(len(text[2]), len(summary))"
   ]
  },
  {
   "cell_type": "code",
   "execution_count": null,
   "id": "fd6e4d97",
   "metadata": {},
   "outputs": [],
   "source": []
  }
 ],
 "metadata": {
  "kernelspec": {
   "display_name": "Python 3 (ipykernel)",
   "language": "python",
   "name": "python3"
  },
  "language_info": {
   "codemirror_mode": {
    "name": "ipython",
    "version": 3
   },
   "file_extension": ".py",
   "mimetype": "text/x-python",
   "name": "python",
   "nbconvert_exporter": "python",
   "pygments_lexer": "ipython3",
   "version": "3.9.6"
  }
 },
 "nbformat": 4,
 "nbformat_minor": 5
}
